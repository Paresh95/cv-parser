{
 "cells": [
  {
   "cell_type": "code",
   "execution_count": 26,
   "metadata": {},
   "outputs": [],
   "source": [
    "import re\n",
    "import PyPDF2\n",
    "from PIL import Image\n",
    "import pytesseract"
   ]
  },
  {
   "cell_type": "code",
   "execution_count": 54,
   "metadata": {},
   "outputs": [],
   "source": [
    "\n",
    "path_to_cv_1 = \"data/cv-example-1.png\"\n",
    "path_to_cv_2 = \"data/cv-example-2.pdf\"\n",
    "path_to_cv_3 = \"data/cv-example-3.pdf\""
   ]
  },
  {
   "cell_type": "code",
   "execution_count": 32,
   "metadata": {},
   "outputs": [],
   "source": [
    "def extract_text_from_pdf(file_path):\n",
    "    with open(file_path, 'rb') as file:\n",
    "        reader = PyPDF2.PdfReader(file)\n",
    "        text = ''\n",
    "        for page_num in range(len(reader.pages)):\n",
    "            text += reader.pages[page_num].extract_text()\n",
    "    return text\n",
    "\n",
    "def extract_text_from_image(image_path):\n",
    "    return pytesseract.image_to_string(Image.open(image_path))\n"
   ]
  },
  {
   "cell_type": "code",
   "execution_count": 56,
   "metadata": {},
   "outputs": [
    {
     "name": "stdout",
     "output_type": "stream",
     "text": [
      "MARK RICE\n",
      "\n",
      "PROFESSIONAL SUMMARY\n",
      "\n",
      "Energetic Primary School Teacher driven to continue to learn and grow\n",
      "professionally to be the most effective teacher. Able to understand and\n",
      "implement new technologies and teaching strategies. Excel at working\n",
      "\n",
      "with different learning styles.\n",
      "\n",
      "WORK HISTORY\n",
      "\n",
      "Primary Teacher, 05/2019 to Current\n",
      "Edinburgh Boys School - Edinburgh, Scotland\n",
      "\n",
      "+ Established strong, supportive relationships with families, encouraging\n",
      "parental involvement to boost children's achievement.\n",
      "\n",
      "+ Integrated creative learning strategies, such as games and\n",
      "team-building exercises, resulting in increased classroom engagement.\n",
      "\n",
      "+ Evaluated students' academic progress, liaising with parents to\n",
      "facilitate cohesive learning environments at home and in school.\n",
      "\n",
      "+ Utilised visual aids and classroom displays to support engaging lesson\n",
      "delivery and enhance student understanding.\n",
      "\n",
      "Primary Teacher, 01/2014 to 04/2019\n",
      "\n",
      "St Christopher's School - Dunbar , East Lothian\n",
      "\n",
      "+ Prepared and delivered creative curriculum for children aged 5-11 in\n",
      "subjects including maths and English.\n",
      "\n",
      "+ Supervised and mentored teaching assistants to build confidence and\n",
      "cultivate effective classroom environments.\n",
      "\n",
      "+ Supported SEND students using evidence-based techniques.\n",
      "\n",
      "+ Marked and provided constructive feedback on homework tasks and\n",
      "class projects.\n",
      "\n",
      "Primary Teacher, 10/2009 to 12/2013\n",
      "\n",
      "St Matthews Primary - Edinburgh, Scotland\n",
      "\n",
      "+ Maintained working knowledge of Key Stage 2 curriculum and related\n",
      "guidance.\n",
      "\n",
      "+ Led parent meetings to discuss student attendance, attainment and\n",
      "behaviour.\n",
      "\n",
      "+ Created daily lesson plans targeted to current curriculum standards.\n",
      "\n",
      "+ Monitored and reported on students' performance to aid development.\n",
      "\n",
      "CONTACT\n",
      "\n",
      "Address: 52 Park Row, EDINBURGH\n",
      "ED2 OYR\n",
      "\n",
      "Phone: 07912345678\n",
      "\n",
      "Email: mark.rice@example-\n",
      "example.co.uk\n",
      "\n",
      "SKILLS\n",
      "\n",
      "+ Learner assessment\n",
      "\n",
      "+ Academic support\n",
      "\n",
      "+ Strategic seating arrangement\n",
      "\n",
      "+ SATs preparation\n",
      "\n",
      "+ Teaching material development\n",
      "+ Pastoral care\n",
      "\n",
      "+ Creative lesson planning\n",
      "\n",
      "+ Behaviour management\n",
      "\n",
      "EDUCATION\n",
      "\n",
      "PGCE, Primary (5-11), 2009\n",
      "University of Edinburgh -\n",
      "Edinburgh\n",
      "\n",
      "Bachelor of Arts, English\n",
      "Literature, 2008\n",
      "University of Strathclyde - Glasgow\n",
      "\n"
     ]
    }
   ],
   "source": [
    "# text = extract_text_from_pdf(path_to_cv_3)\n",
    "# print(text)\n",
    "\n",
    "text = extract_text_from_image(path_to_cv_1)\n",
    "print(text)"
   ]
  },
  {
   "cell_type": "code",
   "execution_count": 83,
   "metadata": {},
   "outputs": [
    {
     "name": "stdout",
     "output_type": "stream",
     "text": [
      "mark rice\n"
     ]
    }
   ],
   "source": [
    "# get first line to get name\n",
    "name = text.split(\"\\n\")[0].strip().lower()\n",
    "\n",
    "print(name)"
   ]
  },
  {
   "cell_type": "code",
   "execution_count": 93,
   "metadata": {},
   "outputs": [
    {
     "data": {
      "text/plain": [
       "'rice smith'"
      ]
     },
     "execution_count": 93,
     "metadata": {},
     "output_type": "execute_result"
    }
   ],
   "source": [
    "' '.join(\"mark rice smith\".split()[1:])"
   ]
  },
  {
   "cell_type": "code",
   "execution_count": 58,
   "metadata": {},
   "outputs": [
    {
     "name": "stdout",
     "output_type": "stream",
     "text": [
      "[]\n"
     ]
    }
   ],
   "source": [
    "# regex to extract email\n",
    "email_pattern = r\"[a-zA-Z0-9._%+-]+@[a-zA-Z0-9.-]+\\.[a-zA-Z]{2,}\"\n",
    "emails = re.findall(email_pattern, text)\n",
    "print(emails)"
   ]
  },
  {
   "cell_type": "code",
   "execution_count": 94,
   "metadata": {},
   "outputs": [
    {
     "name": "stdout",
     "output_type": "stream",
     "text": [
      "['0791234567']\n"
     ]
    }
   ],
   "source": [
    "phone_pattern = r\"(\\d{3}[-\\.\\s]??\\d{3}[-\\.\\s]??\\d{4}|\\(\\d{3}\\)\\s*\\d{3}[-\\.\\s]??\\d{4}|\\d{3}[-\\.\\s]??\\d{4})\"\n",
    "phones = re.findall(phone_pattern, text)\n",
    "print(phones)\n"
   ]
  },
  {
   "cell_type": "code",
   "execution_count": 60,
   "metadata": {},
   "outputs": [
    {
     "name": "stdout",
     "output_type": "stream",
     "text": [
      "PERSON MARK RICE\n",
      "ORG Energetic Primary School\n",
      "PERSON Primary Teacher\n",
      "PERSON 05/2019\n",
      "PERSON Current\n",
      "Edinburgh Boys School - Edinburgh\n",
      "GPE Scotland\n",
      "PERSON Primary Teacher\n",
      "PERSON St Christopher's\n",
      "ORG School - Dunbar\n",
      "NORP East Lothian\n",
      "WORK_OF_ART + Prepared\n",
      "DATE 5-11\n",
      "LANGUAGE English\n",
      "ORG SEND\n",
      "NORP + Marked\n",
      "PERSON Primary Teacher\n",
      "CARDINAL 10/2009 to 12/2013\n",
      "ORG St Matthews Primary - Edinburgh\n",
      "GPE Scotland\n",
      "CARDINAL 2\n",
      "ORG + Created\n",
      "DATE daily\n",
      "CARDINAL 52\n",
      "PERSON Primary\n",
      "DATE 5-11\n",
      "DATE 2009\n",
      "ORG University of Edinburgh\n",
      "GPE Edinburgh\n",
      "LANGUAGE English\n",
      "DATE 2008\n",
      "ORG University of Strathclyde - Glasgow\n"
     ]
    }
   ],
   "source": [
    "import spacy\n",
    "nlp = spacy.load(\"en_core_web_sm\")\n",
    "doc = nlp(text)\n",
    "for entity in doc.ents:\n",
    "    print(entity.label_, entity.text)"
   ]
  },
  {
   "cell_type": "code",
   "execution_count": 61,
   "metadata": {},
   "outputs": [
    {
     "name": "stdout",
     "output_type": "stream",
     "text": [
      "Energetic Primary School\n",
      "School - Dunbar\n",
      "+ Prepared\n",
      "SEND\n",
      "St Matthews Primary - Edinburgh\n",
      "+ Created\n",
      "University of Edinburgh\n",
      "University of Strathclyde - Glasgow\n"
     ]
    }
   ],
   "source": [
    "for ent in doc.ents:\n",
    "    if ent.label_ == \"ORG\" or ent.label_ == \"WORK_OF_ART\":\n",
    "        print(ent.text)"
   ]
  },
  {
   "cell_type": "code",
   "execution_count": 62,
   "metadata": {},
   "outputs": [
    {
     "name": "stderr",
     "output_type": "stream",
     "text": [
      "/Users/pareshar/.pyenv/versions/3.8.10/lib/python3.8/site-packages/urllib3/connectionpool.py:1045: InsecureRequestWarning: Unverified HTTPS request is being made to host 'huggingface.co'. Adding certificate verification is strongly advised. See: https://urllib3.readthedocs.io/en/1.26.x/advanced-usage.html#ssl-warnings\n",
      "  warnings.warn(\n",
      "/Users/pareshar/.pyenv/versions/3.8.10/lib/python3.8/site-packages/urllib3/connectionpool.py:1045: InsecureRequestWarning: Unverified HTTPS request is being made to host 'huggingface.co'. Adding certificate verification is strongly advised. See: https://urllib3.readthedocs.io/en/1.26.x/advanced-usage.html#ssl-warnings\n",
      "  warnings.warn(\n"
     ]
    },
    {
     "name": "stdout",
     "output_type": "stream",
     "text": [
      "[{'entity': 'B-ORG', 'score': 0.5830573, 'index': 78, 'word': 'Edinburgh', 'start': 328, 'end': 337}, {'entity': 'I-ORG', 'score': 0.8025946, 'index': 79, 'word': 'Boys', 'start': 338, 'end': 342}, {'entity': 'I-ORG', 'score': 0.6076678, 'index': 80, 'word': 'School', 'start': 343, 'end': 349}, {'entity': 'B-LOC', 'score': 0.99685425, 'index': 82, 'word': 'Edinburgh', 'start': 352, 'end': 361}, {'entity': 'B-LOC', 'score': 0.9994856, 'index': 84, 'word': 'Scotland', 'start': 363, 'end': 371}, {'entity': 'B-ORG', 'score': 0.61656016, 'index': 180, 'word': 'St', 'start': 921, 'end': 923}, {'entity': 'I-LOC', 'score': 0.72082955, 'index': 181, 'word': 'Christopher', 'start': 924, 'end': 935}, {'entity': 'I-ORG', 'score': 0.49424717, 'index': 182, 'word': \"'\", 'start': 935, 'end': 936}, {'entity': 'I-ORG', 'score': 0.5858895, 'index': 183, 'word': 's', 'start': 936, 'end': 937}, {'entity': 'I-ORG', 'score': 0.4963573, 'index': 184, 'word': 'School', 'start': 938, 'end': 944}, {'entity': 'B-LOC', 'score': 0.98845416, 'index': 186, 'word': 'Dunbar', 'start': 947, 'end': 953}, {'entity': 'B-LOC', 'score': 0.9981317, 'index': 188, 'word': 'East', 'start': 956, 'end': 960}, {'entity': 'I-LOC', 'score': 0.99503326, 'index': 189, 'word': 'Lot', 'start': 961, 'end': 964}, {'entity': 'I-LOC', 'score': 0.98873734, 'index': 190, 'word': '##hian', 'start': 964, 'end': 968}, {'entity': 'B-MISC', 'score': 0.9949817, 'index': 211, 'word': 'English', 'start': 1070, 'end': 1077}, {'entity': 'B-ORG', 'score': 0.7880712, 'index': 269, 'word': 'St', 'start': 1375, 'end': 1377}, {'entity': 'I-ORG', 'score': 0.7136334, 'index': 270, 'word': 'Matthews', 'start': 1378, 'end': 1386}, {'entity': 'I-ORG', 'score': 0.42741755, 'index': 271, 'word': 'Primary', 'start': 1387, 'end': 1394}, {'entity': 'B-LOC', 'score': 0.9913885, 'index': 273, 'word': 'Edinburgh', 'start': 1397, 'end': 1406}, {'entity': 'B-LOC', 'score': 0.9992107, 'index': 275, 'word': 'Scotland', 'start': 1408, 'end': 1416}, {'entity': 'B-LOC', 'score': 0.8812141, 'index': 337, 'word': 'Park', 'start': 1742, 'end': 1746}, {'entity': 'I-LOC', 'score': 0.9531503, 'index': 338, 'word': 'Row', 'start': 1747, 'end': 1750}, {'entity': 'B-LOC', 'score': 0.5724483, 'index': 340, 'word': 'E', 'start': 1752, 'end': 1753}, {'entity': 'B-LOC', 'score': 0.707469, 'index': 431, 'word': 'Edinburgh', 'start': 2088, 'end': 2097}, {'entity': 'B-LOC', 'score': 0.6523967, 'index': 433, 'word': 'Edinburgh', 'start': 2100, 'end': 2109}, {'entity': 'I-ORG', 'score': 0.501244, 'index': 451, 'word': 'Glasgow', 'start': 2182, 'end': 2189}]\n"
     ]
    }
   ],
   "source": [
    "from transformers import AutoTokenizer, AutoModelForTokenClassification\n",
    "from transformers import pipeline\n",
    "import os\n",
    "\n",
    "# bypass VPN to connect to hugging face hub\n",
    "os.environ['CURL_CA_BUNDLE'] = ''\n",
    "\n",
    "tokenizer = AutoTokenizer.from_pretrained(\"dslim/bert-base-NER\")\n",
    "model = AutoModelForTokenClassification.from_pretrained(\"dslim/bert-base-NER\")\n",
    "\n",
    "nlp = pipeline(\"ner\", model=model, tokenizer=tokenizer)\n",
    "\n",
    "ner_results = nlp(text)\n",
    "print(ner_results)\n"
   ]
  },
  {
   "cell_type": "code",
   "execution_count": 64,
   "metadata": {},
   "outputs": [
    {
     "name": "stderr",
     "output_type": "stream",
     "text": [
      "/Users/pareshar/.pyenv/versions/3.8.10/lib/python3.8/site-packages/urllib3/connectionpool.py:1045: InsecureRequestWarning: Unverified HTTPS request is being made to host 'huggingface.co'. Adding certificate verification is strongly advised. See: https://urllib3.readthedocs.io/en/1.26.x/advanced-usage.html#ssl-warnings\n",
      "  warnings.warn(\n"
     ]
    }
   ],
   "source": [
    "from transformers import AutoModelForQuestionAnswering, AutoTokenizer, pipeline\n",
    "\n",
    "model_name = \"deepset/tinyroberta-squad2\"\n",
    "\n",
    "# a) Get predictions\n",
    "nlp = pipeline('question-answering', model=model_name, tokenizer=model_name)"
   ]
  },
  {
   "cell_type": "code",
   "execution_count": 67,
   "metadata": {},
   "outputs": [
    {
     "name": "stdout",
     "output_type": "stream",
     "text": [
      "{'score': 7.837845927838316e-09, 'start': 0, 'end': 9, 'answer': 'MARK RICE'}\n"
     ]
    }
   ],
   "source": [
    "QA_input = {\n",
    "    'question': 'What is my name?',\n",
    "    'context': text\n",
    "}\n",
    "res = nlp(QA_input)\n",
    "print(res)\n",
    "# b) Load model & tokenizer\n",
    "# model = AutoModelForQuestionAnswering.from_pretrained(model_name)\n",
    "# tokenizer = AutoTokenizer.from_pretrained(model_name)\n"
   ]
  },
  {
   "cell_type": "code",
   "execution_count": 68,
   "metadata": {},
   "outputs": [
    {
     "name": "stdout",
     "output_type": "stream",
     "text": [
      "{'score': 2.4087992045451756e-08, 'start': 1338, 'end': 1353, 'answer': 'Primary Teacher'}\n"
     ]
    }
   ],
   "source": [
    "QA_input = {\n",
    "    'question': 'What job titles have I had?',\n",
    "    'context': text\n",
    "}\n",
    "res = nlp(QA_input)\n",
    "print(res)"
   ]
  },
  {
   "cell_type": "code",
   "execution_count": 71,
   "metadata": {},
   "outputs": [
    {
     "name": "stdout",
     "output_type": "stream",
     "text": [
      "{'score': 1.250165132660186e-05, 'start': 2074, 'end': 2097, 'answer': 'University of Edinburgh'}\n"
     ]
    }
   ],
   "source": [
    "QA_input = {\n",
    "    'question': 'What university or school did I attend?',\n",
    "    'context': text\n",
    "}\n",
    "res = nlp(QA_input)\n",
    "print(res)"
   ]
  },
  {
   "cell_type": "code",
   "execution_count": 74,
   "metadata": {},
   "outputs": [
    {
     "name": "stdout",
     "output_type": "stream",
     "text": [
      "{'score': 4.330485353420954e-06, 'start': 2111, 'end': 2127, 'answer': 'Bachelor of Arts'}\n"
     ]
    }
   ],
   "source": [
    "QA_input = {\n",
    "    'question': 'What degree type did I study at university?',\n",
    "    'context': text\n",
    "}\n",
    "res = nlp(QA_input)\n",
    "print(res)"
   ]
  },
  {
   "cell_type": "code",
   "execution_count": 76,
   "metadata": {},
   "outputs": [
    {
     "name": "stdout",
     "output_type": "stream",
     "text": [
      "{'score': 1.8227426323846885e-07, 'start': 2129, 'end': 2147, 'answer': 'English\\nLiterature'}\n"
     ]
    }
   ],
   "source": [
    "QA_input = {\n",
    "    'question': 'What subject did I study at the University of Edinburgh?',\n",
    "    'context': text\n",
    "}\n",
    "res = nlp(QA_input)\n",
    "print(res)"
   ]
  },
  {
   "cell_type": "code",
   "execution_count": 77,
   "metadata": {},
   "outputs": [
    {
     "name": "stdout",
     "output_type": "stream",
     "text": [
      "{'score': 0.6240267753601074, 'start': 1778, 'end': 1789, 'answer': '07912345678'}\n"
     ]
    }
   ],
   "source": [
    "QA_input = {\n",
    "    'question': 'What is my phone number?',\n",
    "    'context': text\n",
    "}\n",
    "res = nlp(QA_input)\n",
    "print(res)"
   ]
  },
  {
   "cell_type": "code",
   "execution_count": 96,
   "metadata": {},
   "outputs": [
    {
     "name": "stdout",
     "output_type": "stream",
     "text": [
      "{'score': 0.00036871983320452273, 'start': 1798, 'end': 1815, 'answer': 'mark.rice@example'}\n"
     ]
    }
   ],
   "source": [
    "QA_input = {\n",
    "    'question': 'What is my email?',\n",
    "    'context': text\n",
    "}\n",
    "res = nlp(QA_input)\n",
    "print(res)"
   ]
  },
  {
   "cell_type": "code",
   "execution_count": 82,
   "metadata": {},
   "outputs": [
    {
     "name": "stdout",
     "output_type": "stream",
     "text": [
      "{'score': 0.0006440834840759635, 'start': 291, 'end': 307, 'answer': '\\nPrimary Teacher'}\n"
     ]
    }
   ],
   "source": [
    "QA_input = {\n",
    "    'question': 'What is my work history?',\n",
    "    'context': text\n",
    "}\n",
    "res = nlp(QA_input)\n",
    "print(res)"
   ]
  },
  {
   "attachments": {},
   "cell_type": "markdown",
   "metadata": {},
   "source": [
    "# Other thoughts\n",
    "\n",
    "- job title, education - pre-defined lists, NER, fine-tuned NER model, NER to subset options and then match to list, LLMs Q/A\n",
    "- job experience - extract text with regex after extracting job title\n",
    "- hobbies, skills - keyword list"
   ]
  }
 ],
 "metadata": {
  "kernelspec": {
   "display_name": "Python 3",
   "language": "python",
   "name": "python3"
  },
  "language_info": {
   "codemirror_mode": {
    "name": "ipython",
    "version": 3
   },
   "file_extension": ".py",
   "mimetype": "text/x-python",
   "name": "python",
   "nbconvert_exporter": "python",
   "pygments_lexer": "ipython3",
   "version": "3.8.10"
  },
  "orig_nbformat": 4
 },
 "nbformat": 4,
 "nbformat_minor": 2
}
